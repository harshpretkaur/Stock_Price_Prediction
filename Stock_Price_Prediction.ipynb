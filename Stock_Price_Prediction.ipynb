{
 "cells": [
  {
   "cell_type": "markdown",
   "id": "3bffce7d",
   "metadata": {},
   "source": [
    "## Importing necessary libraries"
   ]
  },
  {
   "cell_type": "code",
   "execution_count": 17,
   "id": "9fe0902d",
   "metadata": {},
   "outputs": [],
   "source": [
    "import datetime\n",
    "import matplotlib.pyplot as plt\n",
    "from matplotlib import style\n",
    "import pandas as pd\n",
    "import numpy as np\n",
    "import math as m\n",
    "import quandl \n",
    "from sklearn import preprocessing, svm\n",
    "from sklearn.linear_model import LinearRegression\n",
    "from sklearn.model_selection import train_test_split"
   ]
  },
  {
   "cell_type": "markdown",
   "id": "787de837",
   "metadata": {},
   "source": [
    "## Fetching data"
   ]
  },
  {
   "cell_type": "code",
   "execution_count": 18,
   "id": "5f5f9d68",
   "metadata": {},
   "outputs": [],
   "source": [
    "df=quandl.get('WIKI/GOOGL')"
   ]
  },
  {
   "cell_type": "code",
   "execution_count": 19,
   "id": "d589cf8f",
   "metadata": {},
   "outputs": [
    {
     "data": {
      "text/html": [
       "<div>\n",
       "<style scoped>\n",
       "    .dataframe tbody tr th:only-of-type {\n",
       "        vertical-align: middle;\n",
       "    }\n",
       "\n",
       "    .dataframe tbody tr th {\n",
       "        vertical-align: top;\n",
       "    }\n",
       "\n",
       "    .dataframe thead th {\n",
       "        text-align: right;\n",
       "    }\n",
       "</style>\n",
       "<table border=\"1\" class=\"dataframe\">\n",
       "  <thead>\n",
       "    <tr style=\"text-align: right;\">\n",
       "      <th></th>\n",
       "      <th>Open</th>\n",
       "      <th>High</th>\n",
       "      <th>Low</th>\n",
       "      <th>Close</th>\n",
       "      <th>Volume</th>\n",
       "      <th>Ex-Dividend</th>\n",
       "      <th>Split Ratio</th>\n",
       "      <th>Adj. Open</th>\n",
       "      <th>Adj. High</th>\n",
       "      <th>Adj. Low</th>\n",
       "      <th>Adj. Close</th>\n",
       "      <th>Adj. Volume</th>\n",
       "    </tr>\n",
       "    <tr>\n",
       "      <th>Date</th>\n",
       "      <th></th>\n",
       "      <th></th>\n",
       "      <th></th>\n",
       "      <th></th>\n",
       "      <th></th>\n",
       "      <th></th>\n",
       "      <th></th>\n",
       "      <th></th>\n",
       "      <th></th>\n",
       "      <th></th>\n",
       "      <th></th>\n",
       "      <th></th>\n",
       "    </tr>\n",
       "  </thead>\n",
       "  <tbody>\n",
       "    <tr>\n",
       "      <th>2004-08-19</th>\n",
       "      <td>100.01</td>\n",
       "      <td>104.06</td>\n",
       "      <td>95.96</td>\n",
       "      <td>100.335</td>\n",
       "      <td>44659000.0</td>\n",
       "      <td>0.0</td>\n",
       "      <td>1.0</td>\n",
       "      <td>50.159839</td>\n",
       "      <td>52.191109</td>\n",
       "      <td>48.128568</td>\n",
       "      <td>50.322842</td>\n",
       "      <td>44659000.0</td>\n",
       "    </tr>\n",
       "    <tr>\n",
       "      <th>2004-08-20</th>\n",
       "      <td>101.01</td>\n",
       "      <td>109.08</td>\n",
       "      <td>100.50</td>\n",
       "      <td>108.310</td>\n",
       "      <td>22834300.0</td>\n",
       "      <td>0.0</td>\n",
       "      <td>1.0</td>\n",
       "      <td>50.661387</td>\n",
       "      <td>54.708881</td>\n",
       "      <td>50.405597</td>\n",
       "      <td>54.322689</td>\n",
       "      <td>22834300.0</td>\n",
       "    </tr>\n",
       "    <tr>\n",
       "      <th>2004-08-23</th>\n",
       "      <td>110.76</td>\n",
       "      <td>113.48</td>\n",
       "      <td>109.05</td>\n",
       "      <td>109.400</td>\n",
       "      <td>18256100.0</td>\n",
       "      <td>0.0</td>\n",
       "      <td>1.0</td>\n",
       "      <td>55.551482</td>\n",
       "      <td>56.915693</td>\n",
       "      <td>54.693835</td>\n",
       "      <td>54.869377</td>\n",
       "      <td>18256100.0</td>\n",
       "    </tr>\n",
       "    <tr>\n",
       "      <th>2004-08-24</th>\n",
       "      <td>111.24</td>\n",
       "      <td>111.60</td>\n",
       "      <td>103.57</td>\n",
       "      <td>104.870</td>\n",
       "      <td>15247300.0</td>\n",
       "      <td>0.0</td>\n",
       "      <td>1.0</td>\n",
       "      <td>55.792225</td>\n",
       "      <td>55.972783</td>\n",
       "      <td>51.945350</td>\n",
       "      <td>52.597363</td>\n",
       "      <td>15247300.0</td>\n",
       "    </tr>\n",
       "    <tr>\n",
       "      <th>2004-08-25</th>\n",
       "      <td>104.76</td>\n",
       "      <td>108.00</td>\n",
       "      <td>103.88</td>\n",
       "      <td>106.000</td>\n",
       "      <td>9188600.0</td>\n",
       "      <td>0.0</td>\n",
       "      <td>1.0</td>\n",
       "      <td>52.542193</td>\n",
       "      <td>54.167209</td>\n",
       "      <td>52.100830</td>\n",
       "      <td>53.164113</td>\n",
       "      <td>9188600.0</td>\n",
       "    </tr>\n",
       "  </tbody>\n",
       "</table>\n",
       "</div>"
      ],
      "text/plain": [
       "              Open    High     Low    Close      Volume  Ex-Dividend  \\\n",
       "Date                                                                   \n",
       "2004-08-19  100.01  104.06   95.96  100.335  44659000.0          0.0   \n",
       "2004-08-20  101.01  109.08  100.50  108.310  22834300.0          0.0   \n",
       "2004-08-23  110.76  113.48  109.05  109.400  18256100.0          0.0   \n",
       "2004-08-24  111.24  111.60  103.57  104.870  15247300.0          0.0   \n",
       "2004-08-25  104.76  108.00  103.88  106.000   9188600.0          0.0   \n",
       "\n",
       "            Split Ratio  Adj. Open  Adj. High   Adj. Low  Adj. Close  \\\n",
       "Date                                                                   \n",
       "2004-08-19          1.0  50.159839  52.191109  48.128568   50.322842   \n",
       "2004-08-20          1.0  50.661387  54.708881  50.405597   54.322689   \n",
       "2004-08-23          1.0  55.551482  56.915693  54.693835   54.869377   \n",
       "2004-08-24          1.0  55.792225  55.972783  51.945350   52.597363   \n",
       "2004-08-25          1.0  52.542193  54.167209  52.100830   53.164113   \n",
       "\n",
       "            Adj. Volume  \n",
       "Date                     \n",
       "2004-08-19   44659000.0  \n",
       "2004-08-20   22834300.0  \n",
       "2004-08-23   18256100.0  \n",
       "2004-08-24   15247300.0  \n",
       "2004-08-25    9188600.0  "
      ]
     },
     "execution_count": 19,
     "metadata": {},
     "output_type": "execute_result"
    }
   ],
   "source": [
    "df.head()"
   ]
  },
  {
   "cell_type": "markdown",
   "id": "9b6f141e",
   "metadata": {},
   "source": [
    "## Data Cleaning"
   ]
  },
  {
   "cell_type": "code",
   "execution_count": 20,
   "id": "b65bc8b3",
   "metadata": {},
   "outputs": [
    {
     "data": {
      "text/html": [
       "<div>\n",
       "<style scoped>\n",
       "    .dataframe tbody tr th:only-of-type {\n",
       "        vertical-align: middle;\n",
       "    }\n",
       "\n",
       "    .dataframe tbody tr th {\n",
       "        vertical-align: top;\n",
       "    }\n",
       "\n",
       "    .dataframe thead th {\n",
       "        text-align: right;\n",
       "    }\n",
       "</style>\n",
       "<table border=\"1\" class=\"dataframe\">\n",
       "  <thead>\n",
       "    <tr style=\"text-align: right;\">\n",
       "      <th></th>\n",
       "      <th>Adj. Open</th>\n",
       "      <th>Adj. High</th>\n",
       "      <th>Adj. Low</th>\n",
       "      <th>Adj. Close</th>\n",
       "      <th>Adj. Volume</th>\n",
       "    </tr>\n",
       "    <tr>\n",
       "      <th>Date</th>\n",
       "      <th></th>\n",
       "      <th></th>\n",
       "      <th></th>\n",
       "      <th></th>\n",
       "      <th></th>\n",
       "    </tr>\n",
       "  </thead>\n",
       "  <tbody>\n",
       "    <tr>\n",
       "      <th>2004-08-19</th>\n",
       "      <td>50.159839</td>\n",
       "      <td>52.191109</td>\n",
       "      <td>48.128568</td>\n",
       "      <td>50.322842</td>\n",
       "      <td>44659000.0</td>\n",
       "    </tr>\n",
       "    <tr>\n",
       "      <th>2004-08-20</th>\n",
       "      <td>50.661387</td>\n",
       "      <td>54.708881</td>\n",
       "      <td>50.405597</td>\n",
       "      <td>54.322689</td>\n",
       "      <td>22834300.0</td>\n",
       "    </tr>\n",
       "    <tr>\n",
       "      <th>2004-08-23</th>\n",
       "      <td>55.551482</td>\n",
       "      <td>56.915693</td>\n",
       "      <td>54.693835</td>\n",
       "      <td>54.869377</td>\n",
       "      <td>18256100.0</td>\n",
       "    </tr>\n",
       "    <tr>\n",
       "      <th>2004-08-24</th>\n",
       "      <td>55.792225</td>\n",
       "      <td>55.972783</td>\n",
       "      <td>51.945350</td>\n",
       "      <td>52.597363</td>\n",
       "      <td>15247300.0</td>\n",
       "    </tr>\n",
       "    <tr>\n",
       "      <th>2004-08-25</th>\n",
       "      <td>52.542193</td>\n",
       "      <td>54.167209</td>\n",
       "      <td>52.100830</td>\n",
       "      <td>53.164113</td>\n",
       "      <td>9188600.0</td>\n",
       "    </tr>\n",
       "    <tr>\n",
       "      <th>...</th>\n",
       "      <td>...</td>\n",
       "      <td>...</td>\n",
       "      <td>...</td>\n",
       "      <td>...</td>\n",
       "      <td>...</td>\n",
       "    </tr>\n",
       "    <tr>\n",
       "      <th>2018-03-21</th>\n",
       "      <td>1092.570000</td>\n",
       "      <td>1108.700000</td>\n",
       "      <td>1087.210000</td>\n",
       "      <td>1094.000000</td>\n",
       "      <td>1990515.0</td>\n",
       "    </tr>\n",
       "    <tr>\n",
       "      <th>2018-03-22</th>\n",
       "      <td>1080.010000</td>\n",
       "      <td>1083.920000</td>\n",
       "      <td>1049.640000</td>\n",
       "      <td>1053.150000</td>\n",
       "      <td>3418154.0</td>\n",
       "    </tr>\n",
       "    <tr>\n",
       "      <th>2018-03-23</th>\n",
       "      <td>1051.370000</td>\n",
       "      <td>1066.780000</td>\n",
       "      <td>1024.870000</td>\n",
       "      <td>1026.550000</td>\n",
       "      <td>2413517.0</td>\n",
       "    </tr>\n",
       "    <tr>\n",
       "      <th>2018-03-26</th>\n",
       "      <td>1050.600000</td>\n",
       "      <td>1059.270000</td>\n",
       "      <td>1010.580000</td>\n",
       "      <td>1054.090000</td>\n",
       "      <td>3272409.0</td>\n",
       "    </tr>\n",
       "    <tr>\n",
       "      <th>2018-03-27</th>\n",
       "      <td>1063.900000</td>\n",
       "      <td>1064.540000</td>\n",
       "      <td>997.620000</td>\n",
       "      <td>1006.940000</td>\n",
       "      <td>2940957.0</td>\n",
       "    </tr>\n",
       "  </tbody>\n",
       "</table>\n",
       "<p>3424 rows × 5 columns</p>\n",
       "</div>"
      ],
      "text/plain": [
       "              Adj. Open    Adj. High     Adj. Low   Adj. Close  Adj. Volume\n",
       "Date                                                                       \n",
       "2004-08-19    50.159839    52.191109    48.128568    50.322842   44659000.0\n",
       "2004-08-20    50.661387    54.708881    50.405597    54.322689   22834300.0\n",
       "2004-08-23    55.551482    56.915693    54.693835    54.869377   18256100.0\n",
       "2004-08-24    55.792225    55.972783    51.945350    52.597363   15247300.0\n",
       "2004-08-25    52.542193    54.167209    52.100830    53.164113    9188600.0\n",
       "...                 ...          ...          ...          ...          ...\n",
       "2018-03-21  1092.570000  1108.700000  1087.210000  1094.000000    1990515.0\n",
       "2018-03-22  1080.010000  1083.920000  1049.640000  1053.150000    3418154.0\n",
       "2018-03-23  1051.370000  1066.780000  1024.870000  1026.550000    2413517.0\n",
       "2018-03-26  1050.600000  1059.270000  1010.580000  1054.090000    3272409.0\n",
       "2018-03-27  1063.900000  1064.540000   997.620000  1006.940000    2940957.0\n",
       "\n",
       "[3424 rows x 5 columns]"
      ]
     },
     "execution_count": 20,
     "metadata": {},
     "output_type": "execute_result"
    }
   ],
   "source": [
    "df=df[['Adj. Open','Adj. High','Adj. Low','Adj. Close','Adj. Volume']]\n",
    "df"
   ]
  },
  {
   "cell_type": "code",
   "execution_count": 21,
   "id": "4771f0e9",
   "metadata": {},
   "outputs": [],
   "source": [
    "df['hl_pctg']=(df['Adj. High']-df['Adj. Close'])/df['Adj. Close']*100\n",
    "df['daily_pct']=(df['Adj. Close']-df['Adj. Open'])/df['Adj. Open']*100\n",
    "df=df[['Adj. Close','hl_pctg','daily_pct','Adj. Volume']]"
   ]
  },
  {
   "cell_type": "code",
   "execution_count": 22,
   "id": "ffae27b9",
   "metadata": {},
   "outputs": [
    {
     "data": {
      "text/html": [
       "<div>\n",
       "<style scoped>\n",
       "    .dataframe tbody tr th:only-of-type {\n",
       "        vertical-align: middle;\n",
       "    }\n",
       "\n",
       "    .dataframe tbody tr th {\n",
       "        vertical-align: top;\n",
       "    }\n",
       "\n",
       "    .dataframe thead th {\n",
       "        text-align: right;\n",
       "    }\n",
       "</style>\n",
       "<table border=\"1\" class=\"dataframe\">\n",
       "  <thead>\n",
       "    <tr style=\"text-align: right;\">\n",
       "      <th></th>\n",
       "      <th>Adj. Close</th>\n",
       "      <th>hl_pctg</th>\n",
       "      <th>daily_pct</th>\n",
       "      <th>Adj. Volume</th>\n",
       "    </tr>\n",
       "    <tr>\n",
       "      <th>Date</th>\n",
       "      <th></th>\n",
       "      <th></th>\n",
       "      <th></th>\n",
       "      <th></th>\n",
       "    </tr>\n",
       "  </thead>\n",
       "  <tbody>\n",
       "    <tr>\n",
       "      <th>2004-08-19</th>\n",
       "      <td>50.322842</td>\n",
       "      <td>3.712563</td>\n",
       "      <td>0.324968</td>\n",
       "      <td>44659000.0</td>\n",
       "    </tr>\n",
       "    <tr>\n",
       "      <th>2004-08-20</th>\n",
       "      <td>54.322689</td>\n",
       "      <td>0.710922</td>\n",
       "      <td>7.227007</td>\n",
       "      <td>22834300.0</td>\n",
       "    </tr>\n",
       "    <tr>\n",
       "      <th>2004-08-23</th>\n",
       "      <td>54.869377</td>\n",
       "      <td>3.729433</td>\n",
       "      <td>-1.227880</td>\n",
       "      <td>18256100.0</td>\n",
       "    </tr>\n",
       "    <tr>\n",
       "      <th>2004-08-24</th>\n",
       "      <td>52.597363</td>\n",
       "      <td>6.417469</td>\n",
       "      <td>-5.726357</td>\n",
       "      <td>15247300.0</td>\n",
       "    </tr>\n",
       "    <tr>\n",
       "      <th>2004-08-25</th>\n",
       "      <td>53.164113</td>\n",
       "      <td>1.886792</td>\n",
       "      <td>1.183658</td>\n",
       "      <td>9188600.0</td>\n",
       "    </tr>\n",
       "  </tbody>\n",
       "</table>\n",
       "</div>"
      ],
      "text/plain": [
       "            Adj. Close   hl_pctg  daily_pct  Adj. Volume\n",
       "Date                                                    \n",
       "2004-08-19   50.322842  3.712563   0.324968   44659000.0\n",
       "2004-08-20   54.322689  0.710922   7.227007   22834300.0\n",
       "2004-08-23   54.869377  3.729433  -1.227880   18256100.0\n",
       "2004-08-24   52.597363  6.417469  -5.726357   15247300.0\n",
       "2004-08-25   53.164113  1.886792   1.183658    9188600.0"
      ]
     },
     "execution_count": 22,
     "metadata": {},
     "output_type": "execute_result"
    }
   ],
   "source": [
    "df.head()"
   ]
  },
  {
   "cell_type": "markdown",
   "id": "c21a1333",
   "metadata": {},
   "source": [
    "## Building a model for predictions"
   ]
  },
  {
   "cell_type": "code",
   "execution_count": 23,
   "id": "4e654c82",
   "metadata": {},
   "outputs": [],
   "source": [
    "forecast=df['Adj. Close']"
   ]
  },
  {
   "cell_type": "code",
   "execution_count": 24,
   "id": "db873455",
   "metadata": {},
   "outputs": [
    {
     "name": "stderr",
     "output_type": "stream",
     "text": [
      "c:\\users\\harshpreet kaur\\appdata\\local\\programs\\python\\python39\\lib\\site-packages\\pandas\\core\\frame.py:5176: SettingWithCopyWarning: \n",
      "A value is trying to be set on a copy of a slice from a DataFrame\n",
      "\n",
      "See the caveats in the documentation: https://pandas.pydata.org/pandas-docs/stable/user_guide/indexing.html#returning-a-view-versus-a-copy\n",
      "  return super().fillna(\n"
     ]
    }
   ],
   "source": [
    "df.fillna(value=-99999,inplace=True)"
   ]
  },
  {
   "cell_type": "code",
   "execution_count": 35,
   "id": "6f317481",
   "metadata": {},
   "outputs": [],
   "source": [
    "forecastno=(int(m.ceil(0.001*len(df))))"
   ]
  },
  {
   "cell_type": "code",
   "execution_count": 36,
   "id": "9dc3e942",
   "metadata": {},
   "outputs": [
    {
     "name": "stderr",
     "output_type": "stream",
     "text": [
      "C:\\Users\\HARSHP~1\\AppData\\Local\\Temp/ipykernel_17504/4130643783.py:1: SettingWithCopyWarning: \n",
      "A value is trying to be set on a copy of a slice from a DataFrame.\n",
      "Try using .loc[row_indexer,col_indexer] = value instead\n",
      "\n",
      "See the caveats in the documentation: https://pandas.pydata.org/pandas-docs/stable/user_guide/indexing.html#returning-a-view-versus-a-copy\n",
      "  df['Label']=forecast.shift(-forecastno)\n"
     ]
    }
   ],
   "source": [
    "df['Label']=forecast.shift(-forecastno)"
   ]
  },
  {
   "cell_type": "code",
   "execution_count": 37,
   "id": "fb2d00c6",
   "metadata": {},
   "outputs": [
    {
     "data": {
      "text/html": [
       "<div>\n",
       "<style scoped>\n",
       "    .dataframe tbody tr th:only-of-type {\n",
       "        vertical-align: middle;\n",
       "    }\n",
       "\n",
       "    .dataframe tbody tr th {\n",
       "        vertical-align: top;\n",
       "    }\n",
       "\n",
       "    .dataframe thead th {\n",
       "        text-align: right;\n",
       "    }\n",
       "</style>\n",
       "<table border=\"1\" class=\"dataframe\">\n",
       "  <thead>\n",
       "    <tr style=\"text-align: right;\">\n",
       "      <th></th>\n",
       "      <th>Adj. Close</th>\n",
       "      <th>hl_pctg</th>\n",
       "      <th>daily_pct</th>\n",
       "      <th>Adj. Volume</th>\n",
       "      <th>Label</th>\n",
       "    </tr>\n",
       "    <tr>\n",
       "      <th>Date</th>\n",
       "      <th></th>\n",
       "      <th></th>\n",
       "      <th></th>\n",
       "      <th></th>\n",
       "      <th></th>\n",
       "    </tr>\n",
       "  </thead>\n",
       "  <tbody>\n",
       "    <tr>\n",
       "      <th>2004-08-19</th>\n",
       "      <td>50.322842</td>\n",
       "      <td>3.712563</td>\n",
       "      <td>0.324968</td>\n",
       "      <td>44659000.0</td>\n",
       "      <td>53.164113</td>\n",
       "    </tr>\n",
       "    <tr>\n",
       "      <th>2004-08-20</th>\n",
       "      <td>54.322689</td>\n",
       "      <td>0.710922</td>\n",
       "      <td>7.227007</td>\n",
       "      <td>22834300.0</td>\n",
       "      <td>54.122070</td>\n",
       "    </tr>\n",
       "    <tr>\n",
       "      <th>2004-08-23</th>\n",
       "      <td>54.869377</td>\n",
       "      <td>3.729433</td>\n",
       "      <td>-1.227880</td>\n",
       "      <td>18256100.0</td>\n",
       "      <td>53.239345</td>\n",
       "    </tr>\n",
       "    <tr>\n",
       "      <th>2004-08-24</th>\n",
       "      <td>52.597363</td>\n",
       "      <td>6.417469</td>\n",
       "      <td>-5.726357</td>\n",
       "      <td>15247300.0</td>\n",
       "      <td>51.162935</td>\n",
       "    </tr>\n",
       "    <tr>\n",
       "      <th>2004-08-25</th>\n",
       "      <td>53.164113</td>\n",
       "      <td>1.886792</td>\n",
       "      <td>1.183658</td>\n",
       "      <td>9188600.0</td>\n",
       "      <td>51.343492</td>\n",
       "    </tr>\n",
       "    <tr>\n",
       "      <th>...</th>\n",
       "      <td>...</td>\n",
       "      <td>...</td>\n",
       "      <td>...</td>\n",
       "      <td>...</td>\n",
       "      <td>...</td>\n",
       "    </tr>\n",
       "    <tr>\n",
       "      <th>2018-01-30</th>\n",
       "      <td>1177.370000</td>\n",
       "      <td>0.896914</td>\n",
       "      <td>-0.029718</td>\n",
       "      <td>1792602.0</td>\n",
       "      <td>1068.760000</td>\n",
       "    </tr>\n",
       "    <tr>\n",
       "      <th>2018-01-31</th>\n",
       "      <td>1182.220000</td>\n",
       "      <td>0.346805</td>\n",
       "      <td>-0.134312</td>\n",
       "      <td>1643877.0</td>\n",
       "      <td>1084.430000</td>\n",
       "    </tr>\n",
       "    <tr>\n",
       "      <th>2018-02-01</th>\n",
       "      <td>1181.590000</td>\n",
       "      <td>0.495942</td>\n",
       "      <td>0.476195</td>\n",
       "      <td>2774967.0</td>\n",
       "      <td>1055.410000</td>\n",
       "    </tr>\n",
       "    <tr>\n",
       "      <th>2018-02-02</th>\n",
       "      <td>1119.200000</td>\n",
       "      <td>1.081129</td>\n",
       "      <td>-0.729098</td>\n",
       "      <td>5798880.0</td>\n",
       "      <td>1005.600000</td>\n",
       "    </tr>\n",
       "    <tr>\n",
       "      <th>2018-02-05</th>\n",
       "      <td>1068.760000</td>\n",
       "      <td>4.325574</td>\n",
       "      <td>-2.893850</td>\n",
       "      <td>3742469.0</td>\n",
       "      <td>1043.430000</td>\n",
       "    </tr>\n",
       "  </tbody>\n",
       "</table>\n",
       "<p>3389 rows × 5 columns</p>\n",
       "</div>"
      ],
      "text/plain": [
       "             Adj. Close   hl_pctg  daily_pct  Adj. Volume        Label\n",
       "Date                                                                  \n",
       "2004-08-19    50.322842  3.712563   0.324968   44659000.0    53.164113\n",
       "2004-08-20    54.322689  0.710922   7.227007   22834300.0    54.122070\n",
       "2004-08-23    54.869377  3.729433  -1.227880   18256100.0    53.239345\n",
       "2004-08-24    52.597363  6.417469  -5.726357   15247300.0    51.162935\n",
       "2004-08-25    53.164113  1.886792   1.183658    9188600.0    51.343492\n",
       "...                 ...       ...        ...          ...          ...\n",
       "2018-01-30  1177.370000  0.896914  -0.029718    1792602.0  1068.760000\n",
       "2018-01-31  1182.220000  0.346805  -0.134312    1643877.0  1084.430000\n",
       "2018-02-01  1181.590000  0.495942   0.476195    2774967.0  1055.410000\n",
       "2018-02-02  1119.200000  1.081129  -0.729098    5798880.0  1005.600000\n",
       "2018-02-05  1068.760000  4.325574  -2.893850    3742469.0  1043.430000\n",
       "\n",
       "[3389 rows x 5 columns]"
      ]
     },
     "execution_count": 37,
     "metadata": {},
     "output_type": "execute_result"
    }
   ],
   "source": [
    "df"
   ]
  },
  {
   "cell_type": "markdown",
   "id": "d677ccc9",
   "metadata": {},
   "source": [
    "## Specifying the labels and features, further dividing them into training and testing sets"
   ]
  },
  {
   "cell_type": "code",
   "execution_count": 38,
   "id": "4de09ff4",
   "metadata": {},
   "outputs": [
    {
     "name": "stderr",
     "output_type": "stream",
     "text": [
      "c:\\users\\harshpreet kaur\\appdata\\local\\programs\\python\\python39\\lib\\site-packages\\pandas\\util\\_decorators.py:311: SettingWithCopyWarning: \n",
      "A value is trying to be set on a copy of a slice from a DataFrame\n",
      "\n",
      "See the caveats in the documentation: https://pandas.pydata.org/pandas-docs/stable/user_guide/indexing.html#returning-a-view-versus-a-copy\n",
      "  return func(*args, **kwargs)\n"
     ]
    }
   ],
   "source": [
    "X = np.array(df[['Adj. Close','hl_pctg','daily_pct','Adj. Volume']])\n",
    "X = preprocessing.scale(X)\n",
    "X_lately = X[-forecastno:]\n",
    "\n",
    "df.dropna(inplace=True)\n",
    "\n",
    "y = np.array(df['Label'])\n"
   ]
  },
  {
   "cell_type": "code",
   "execution_count": 39,
   "id": "e04181e4",
   "metadata": {},
   "outputs": [
    {
     "data": {
      "text/plain": [
       "(3389, 3389)"
      ]
     },
     "execution_count": 39,
     "metadata": {},
     "output_type": "execute_result"
    }
   ],
   "source": [
    "len(X),len(y)"
   ]
  },
  {
   "cell_type": "code",
   "execution_count": 40,
   "id": "2a061fdd",
   "metadata": {},
   "outputs": [],
   "source": [
    "X_train, X_test, y_train, y_test=train_test_split(X,y, test_size=0.2)"
   ]
  },
  {
   "cell_type": "code",
   "execution_count": 41,
   "id": "fe36b934",
   "metadata": {},
   "outputs": [
    {
     "data": {
      "text/plain": [
       "2711"
      ]
     },
     "execution_count": 41,
     "metadata": {},
     "output_type": "execute_result"
    }
   ],
   "source": [
    "len(X_train)\n",
    "# print(0.8*3389)\n",
    "\n"
   ]
  },
  {
   "cell_type": "markdown",
   "id": "401ea0b5",
   "metadata": {},
   "source": [
    "## Defining classifiers and testing its accuracy"
   ]
  },
  {
   "cell_type": "code",
   "execution_count": 42,
   "id": "6c4fd6cb",
   "metadata": {},
   "outputs": [],
   "source": [
    "cfr=svm.SVR()"
   ]
  },
  {
   "cell_type": "code",
   "execution_count": 43,
   "id": "11807949",
   "metadata": {},
   "outputs": [
    {
     "data": {
      "text/plain": [
       "SVR()"
      ]
     },
     "execution_count": 43,
     "metadata": {},
     "output_type": "execute_result"
    }
   ],
   "source": [
    "cfr.fit(X_train,y_train)"
   ]
  },
  {
   "cell_type": "code",
   "execution_count": 44,
   "id": "a66ff5a5",
   "metadata": {},
   "outputs": [],
   "source": [
    "confidence=cfr.score(X_test, y_test)"
   ]
  },
  {
   "cell_type": "code",
   "execution_count": 45,
   "id": "76cd1c98",
   "metadata": {},
   "outputs": [
    {
     "data": {
      "text/plain": [
       "0.8080375036301167"
      ]
     },
     "execution_count": 45,
     "metadata": {},
     "output_type": "execute_result"
    }
   ],
   "source": [
    "confidence"
   ]
  },
  {
   "cell_type": "code",
   "execution_count": 46,
   "id": "f7e89ebb",
   "metadata": {},
   "outputs": [],
   "source": [
    "# 80% accuracy"
   ]
  },
  {
   "cell_type": "code",
   "execution_count": 47,
   "id": "0b0c54cf",
   "metadata": {},
   "outputs": [],
   "source": [
    "cfr2=LinearRegression(n_jobs=-1)"
   ]
  },
  {
   "cell_type": "code",
   "execution_count": 48,
   "id": "688133ae",
   "metadata": {},
   "outputs": [
    {
     "data": {
      "text/plain": [
       "LinearRegression(n_jobs=-1)"
      ]
     },
     "execution_count": 48,
     "metadata": {},
     "output_type": "execute_result"
    }
   ],
   "source": [
    "cfr2.fit(X_train, y_train)"
   ]
  },
  {
   "cell_type": "code",
   "execution_count": 49,
   "id": "e96816e8",
   "metadata": {},
   "outputs": [],
   "source": [
    "confidence2=cfr2.score(X_test,y_test)"
   ]
  },
  {
   "cell_type": "code",
   "execution_count": 50,
   "id": "432af42a",
   "metadata": {},
   "outputs": [
    {
     "data": {
      "text/plain": [
       "0.9967156290328004"
      ]
     },
     "execution_count": 50,
     "metadata": {},
     "output_type": "execute_result"
    }
   ],
   "source": [
    "confidence2"
   ]
  },
  {
   "cell_type": "code",
   "execution_count": 51,
   "id": "84bc458b",
   "metadata": {},
   "outputs": [],
   "source": [
    "#97% accuracy"
   ]
  },
  {
   "cell_type": "markdown",
   "id": "e35f9c4a",
   "metadata": {},
   "source": [
    "## exploring different kernels"
   ]
  },
  {
   "cell_type": "code",
   "execution_count": 52,
   "id": "a6dedc16",
   "metadata": {},
   "outputs": [
    {
     "name": "stdout",
     "output_type": "stream",
     "text": [
      "0.8080375036301167\n",
      "0.8080375036301167\n",
      "0.8080375036301167\n",
      "0.8080375036301167\n"
     ]
    }
   ],
   "source": [
    "kerns=['linear','poly','rbf','sigmoid']\n",
    "for k in kerns:\n",
    "    cfr3=svm.SVR(kernel=k)\n",
    "    cfr.fit(X_train,y_train)\n",
    "    print(cfr.score(X_test,y_test))"
   ]
  },
  {
   "cell_type": "code",
   "execution_count": 53,
   "id": "017061ed",
   "metadata": {},
   "outputs": [
    {
     "name": "stdout",
     "output_type": "stream",
     "text": [
      "[1183.38764083 1182.83517755 1120.13162299 1071.08842547]\n",
      "4\n",
      "0.9967156290328004\n"
     ]
    }
   ],
   "source": [
    "predicted=cfr2.predict(X_lately)\n",
    "print(predicted)\n",
    "print(len(predicted))\n",
    "print(confidence2)\n"
   ]
  },
  {
   "cell_type": "code",
   "execution_count": 54,
   "id": "155627f7",
   "metadata": {},
   "outputs": [
    {
     "data": {
      "text/plain": [
       "4"
      ]
     },
     "execution_count": 54,
     "metadata": {},
     "output_type": "execute_result"
    }
   ],
   "source": [
    "forecastno"
   ]
  },
  {
   "cell_type": "markdown",
   "id": "52f86c98",
   "metadata": {},
   "source": [
    "## Visualizing the model"
   ]
  },
  {
   "cell_type": "code",
   "execution_count": 55,
   "id": "7b5922c9",
   "metadata": {},
   "outputs": [],
   "source": [
    "style.use('ggplot')"
   ]
  },
  {
   "cell_type": "code",
   "execution_count": 56,
   "id": "79f2ee41",
   "metadata": {},
   "outputs": [
    {
     "name": "stderr",
     "output_type": "stream",
     "text": [
      "C:\\Users\\HARSHP~1\\AppData\\Local\\Temp/ipykernel_17504/1821398529.py:1: SettingWithCopyWarning: \n",
      "A value is trying to be set on a copy of a slice from a DataFrame.\n",
      "Try using .loc[row_indexer,col_indexer] = value instead\n",
      "\n",
      "See the caveats in the documentation: https://pandas.pydata.org/pandas-docs/stable/user_guide/indexing.html#returning-a-view-versus-a-copy\n",
      "  df['prediction']=np.nan\n"
     ]
    }
   ],
   "source": [
    "df['prediction']=np.nan"
   ]
  },
  {
   "cell_type": "code",
   "execution_count": 57,
   "id": "56ce02b0",
   "metadata": {},
   "outputs": [
    {
     "data": {
      "text/plain": [
       "1517875200.0"
      ]
     },
     "execution_count": 57,
     "metadata": {},
     "output_type": "execute_result"
    }
   ],
   "source": [
    "last_date=df.iloc[-1].name\n",
    "secs=86400\n",
    "unix_time=last_date.timestamp()+secs\n",
    "unix_time"
   ]
  },
  {
   "cell_type": "code",
   "execution_count": 58,
   "id": "8223d590",
   "metadata": {},
   "outputs": [
    {
     "name": "stderr",
     "output_type": "stream",
     "text": [
      "c:\\users\\harshpreet kaur\\appdata\\local\\programs\\python\\python39\\lib\\site-packages\\pandas\\core\\indexing.py:723: SettingWithCopyWarning: \n",
      "A value is trying to be set on a copy of a slice from a DataFrame\n",
      "\n",
      "See the caveats in the documentation: https://pandas.pydata.org/pandas-docs/stable/user_guide/indexing.html#returning-a-view-versus-a-copy\n",
      "  iloc._setitem_with_indexer(indexer, value, self.name)\n"
     ]
    }
   ],
   "source": [
    "for i in predicted:\n",
    "    next_date=datetime.datetime.fromtimestamp(unix_time)\n",
    "    unix_time+=secs\n",
    "    df.loc[next_date]=[np.nan for i in range(len(df.columns)-1)]+[i]"
   ]
  },
  {
   "cell_type": "code",
   "execution_count": 59,
   "id": "0e0e12ce",
   "metadata": {},
   "outputs": [
    {
     "data": {
      "text/plain": [
       "<matplotlib.legend.Legend at 0x142167daa90>"
      ]
     },
     "execution_count": 59,
     "metadata": {},
     "output_type": "execute_result"
    },
    {
     "data": {
      "image/png": "[encoded data removed]",
      "text/plain": [
       "<Figure size 432x288 with 1 Axes>"
      ]
     },
     "metadata": {},
     "output_type": "display_data"
    }
   ],
   "source": [
    "df['Adj. Close'].plot()\n",
    "df['prediction'].plot()\n",
    "plt.legend()"
   ]
  },
  {
   "cell_type": "code",
   "execution_count": null,
   "id": "ca0541d1",
   "metadata": {},
   "outputs": [],
   "source": []
  },
  {
   "cell_type": "code",
   "execution_count": null,
   "id": "27a3c68e",
   "metadata": {},
   "outputs": [],
   "source": []
  }
 ],
 "metadata": {
  "kernelspec": {
   "display_name": "Python 3 (ipykernel)",
   "language": "python",
   "name": "python3"
  },
  "language_info": {
   "codemirror_mode": {
    "name": "ipython",
    "version": 3
   },
   "file_extension": ".py",
   "mimetype": "text/x-python",
   "name": "python",
   "nbconvert_exporter": "python",
   "pygments_lexer": "ipython3",
   "version": "3.9.5"
  }
 },
 "nbformat": 4,
 "nbformat_minor": 5
}
